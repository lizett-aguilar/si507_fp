{
 "cells": [
  {
   "cell_type": "code",
   "execution_count": 1,
   "metadata": {},
   "outputs": [],
   "source": [
    "import requests"
   ]
  },
  {
   "cell_type": "markdown",
   "metadata": {},
   "source": [
    "Creating a data structure to store the national park information in:"
   ]
  },
  {
   "cell_type": "code",
   "execution_count": 3,
   "metadata": {},
   "outputs": [],
   "source": [
    "#creating a tree structure to later input national park information into:\n",
    "class Node:\n",
    "    def __init__(self, name, parent=None):\n",
    "        self.name = name\n",
    "        self.parent = parent\n",
    "        self.children = []\n",
    "\n",
    "    def add_child(self, child):\n",
    "        self.children.append(child)\n",
    "\n",
    "    def __str__(self, level=0):\n",
    "        ret = \" \" * level + self.name + \"\\n\"\n",
    "        for child in self.children:\n",
    "            ret += child.__str__(level + 1)\n",
    "        return ret\n",
    "\n",
    "    def __repr__(self):\n",
    "        return self.__str__()"
   ]
  },
  {
   "cell_type": "markdown",
   "metadata": {},
   "source": [
    "Using the tree data structure to start creating children:"
   ]
  },
  {
   "cell_type": "code",
   "execution_count": 4,
   "metadata": {},
   "outputs": [],
   "source": [
    "#create a root node called \"National Parks in California\"\n",
    "root = Node(\"National Parks in California\")\n",
    "\n",
    "#creating a node for each national park in California\n",
    "yosemite = Node(\"Yosemite\", root)\n",
    "sequoia = Node(\"Sequoia\", root)\n",
    "kings_canyon = Node(\"Kings Canyon\", root)\n",
    "pinnacles = Node(\"Pinnacles\", root)\n",
    "channel_islands = Node(\"Channel Islands\", root)\n",
    "lassen = Node(\"Lassen\", root)\n",
    "redwood = Node(\"Redwood\", root)\n",
    "joshua_tree = Node(\"Joshua Tree\", root)\n",
    "death_valley = Node(\"Death Valley\", root)\n"
   ]
  },
  {
   "cell_type": "markdown",
   "metadata": {},
   "source": [
    "Adding the child nodes to our tree"
   ]
  },
  {
   "cell_type": "code",
   "execution_count": 5,
   "metadata": {},
   "outputs": [],
   "source": [
    "root.add_child(yosemite)\n",
    "root.add_child(sequoia)\n",
    "root.add_child(kings_canyon)\n",
    "root.add_child(pinnacles)\n",
    "root.add_child(channel_islands)\n",
    "root.add_child(lassen)\n",
    "root.add_child(redwood)\n",
    "root.add_child(joshua_tree)\n",
    "root.add_child(death_valley)\n"
   ]
  }
 ],
 "metadata": {
  "kernelspec": {
   "display_name": "Python 3",
   "language": "python",
   "name": "python3"
  },
  "language_info": {
   "codemirror_mode": {
    "name": "ipython",
    "version": 3
   },
   "file_extension": ".py",
   "mimetype": "text/x-python",
   "name": "python",
   "nbconvert_exporter": "python",
   "pygments_lexer": "ipython3",
   "version": "3.11.1"
  }
 },
 "nbformat": 4,
 "nbformat_minor": 2
}
