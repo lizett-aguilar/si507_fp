{
 "cells": [
  {
   "cell_type": "code",
   "execution_count": 2,
   "metadata": {},
   "outputs": [],
   "source": [
    "#use the api_key parameter from the secret.py file\n",
    "from secret import api_key\n",
    "import json\n",
    "import requests"
   ]
  },
  {
   "cell_type": "code",
   "execution_count": 3,
   "metadata": {},
   "outputs": [],
   "source": [
    "#creating a function to get the park description from the national park service api:\n",
    "def get_park_description(park_code):\n",
    "    url = f\"https://developer.nps.gov/api/v1/parks?parkCode={park_code}&api_key={api_key}\"\n",
    "    response = requests.get(url)\n",
    "    response.raise_for_status()\n",
    "    park_data = response.json()\n",
    "    park_description = park_data['data'][0]['description']\n",
    "    return park_description"
   ]
  }
 ],
 "metadata": {
  "kernelspec": {
   "display_name": "Python 3",
   "language": "python",
   "name": "python3"
  },
  "language_info": {
   "codemirror_mode": {
    "name": "ipython",
    "version": 3
   },
   "file_extension": ".py",
   "mimetype": "text/x-python",
   "name": "python",
   "nbconvert_exporter": "python",
   "pygments_lexer": "ipython3",
   "version": "3.11.1"
  }
 },
 "nbformat": 4,
 "nbformat_minor": 2
}
